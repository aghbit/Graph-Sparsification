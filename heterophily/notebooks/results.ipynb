{
 "cells": [
  {
   "cell_type": "code",
   "execution_count": 7,
   "id": "af97ee62",
   "metadata": {},
   "outputs": [],
   "source": [
    "import os\n",
    "import yaml\n",
    "import numpy as np\n",
    "import pandas as pd"
   ]
  },
  {
   "cell_type": "code",
   "execution_count": 8,
   "id": "e36173da",
   "metadata": {},
   "outputs": [],
   "source": [
    "datasets = [\n",
    "    'roman-empire', 'amazon-ratings', 'minesweeper', 'tolokers', 'questions'\n",
    "]\n",
    "\n",
    "roc_auc_datasets = ['minesweeper', 'tolokers', 'questions']\n",
    "\n",
    "#models = ['ResNet', 'ResNet+SGC', 'ResNet+adj', 'GCN', 'SAGE', 'GAT', 'GAT-sep', 'GT', 'GT-sep']\n",
    "\n",
    "columns = ['model', 'dataset', 'sparsification', 'removed percent', 'accuracy / ROC AUC mean', 'accuracy / ROC AUC std']"
   ]
  },
  {
   "cell_type": "code",
   "execution_count": 9,
   "id": "a3b90300",
   "metadata": {},
   "outputs": [
    {
     "data": {
      "text/plain": "['amazon-ratings',\n 'chameleon',\n 'cornell',\n 'minesweeper',\n 'questions',\n 'roman-empire',\n 'tolokers']"
     },
     "execution_count": 9,
     "metadata": {},
     "output_type": "execute_result"
    }
   ],
   "source": [
    "df = pd.DataFrame(columns=columns)\n",
    "\n",
    "experiments_path = os.path.join('../experiments')\n",
    "datasets = [dataset for dataset in os.listdir(experiments_path)]\n",
    "datasets"
   ]
  },
  {
   "cell_type": "code",
   "execution_count": 10,
   "id": "c543a58f",
   "metadata": {},
   "outputs": [
    {
     "name": "stdout",
     "output_type": "stream",
     "text": [
      "    model         dataset sparsification removed percent  \\\n",
      "0     GCN  amazon-ratings           None            None   \n",
      "1     GCN  amazon-ratings           None            None   \n",
      "2     GCN  amazon-ratings           None            None   \n",
      "3     GCN  amazon-ratings           None            None   \n",
      "4     GCN  amazon-ratings           None            None   \n",
      "..    ...             ...            ...             ...   \n",
      "274  SAGE        tolokers           None            None   \n",
      "275  SAGE        tolokers           None            None   \n",
      "276  SAGE        tolokers           None            None   \n",
      "277  SAGE        tolokers           None            None   \n",
      "278  SAGE        tolokers           None            None   \n",
      "\n",
      "     accuracy / ROC AUC mean  accuracy / ROC AUC std  \n",
      "0                      45.69                    0.89  \n",
      "1                      49.21                    0.60  \n",
      "2                      48.87                    0.84  \n",
      "3                      48.60                    0.88  \n",
      "4                      48.34                    0.60  \n",
      "..                       ...                     ...  \n",
      "274                    79.41                    0.66  \n",
      "275                    82.34                    0.72  \n",
      "276                    82.24                    0.65  \n",
      "277                    82.21                    0.75  \n",
      "278                    82.36                    0.74  \n",
      "\n",
      "[279 rows x 6 columns]\n"
     ]
    }
   ],
   "source": [
    "for dataset in datasets:\n",
    "    dataset_experiments_path = os.path.join(experiments_path, dataset)\n",
    "    for experiment_name in os.listdir(dataset_experiments_path):\n",
    "        experiment = experiment_name.replace('-', '_').split('_')\n",
    "        model = experiment[0]\n",
    "        if len(experiment) == 3:\n",
    "            sparsification = None\n",
    "            percent2remove = None\n",
    "        else:\n",
    "            sparsification = experiment[1]\n",
    "            percent2remove = experiment[2]\n",
    "        with open(os.path.join(dataset_experiments_path, experiment_name, 'metrics.yaml')) as f:\n",
    "            metrics = yaml.safe_load(f)\n",
    "        metric_name = 'ROC AUC' if dataset in roc_auc_datasets else 'accuracy'\n",
    "        val_metric_mean = float(int(metrics[f'val {metric_name} mean'] * 10000)) / 100\n",
    "        val_metric_std = float(int(metrics[f'val {metric_name} std'] * 10000)) / 100\n",
    "\n",
    "        row = {'model': model, 'dataset': dataset, 'sparsification': sparsification, 'removed percent': percent2remove, 'accuracy / ROC AUC mean': val_metric_mean, 'accuracy / ROC AUC std': val_metric_std}\n",
    "\n",
    "        df.loc[len(df)] = row\n",
    "    # model_name = model.replace('-', '_').replace('+', '_')\n",
    "    # results = []\n",
    "    # for dataset in datasets:\n",
    "    #     val_metrics = []\n",
    "    #     metric_name = 'ROC AUC' if dataset in roc_auc_datasets else 'accuracy'\n",
    "    #     for num_layers in range(1, 6):\n",
    "    #         filename = f'../experiments/{dataset}/{model_name}_l{num_layers}_01/metrics.yaml'\n",
    "    #         if os.path.exists(filename):\n",
    "    #             with open(filename) as file:\n",
    "    #                 metrics = yaml.safe_load(file)\n",
    "    #\n",
    "    #             val_metric_mean = metrics[f'val {metric_name} mean']\n",
    "    #             val_metrics.append(val_metric_mean)\n",
    "    #\n",
    "    #     if not val_metrics:\n",
    "    #         string = ''\n",
    "    #     else:\n",
    "    #         best_num_layers = np.argmax(val_metrics) + 1\n",
    "    #         filename = f'../experiments/{dataset}/{model_name}_l{best_num_layers}_01/metrics.yaml'\n",
    "    #         print(f'{model_name} best num layers for {dataset}: {best_num_layers}')\n",
    "    #         with open(filename) as file:\n",
    "    #             metrics = yaml.safe_load(file)\n",
    "    #\n",
    "    #         test_metric_mean = metrics[f'test {metric_name} mean']\n",
    "    #         test_metric_std = metrics[f'test {metric_name} std']\n",
    "    #\n",
    "    #         string = f'{test_metric_mean * 100:.2f} \\u00B1 {test_metric_std * 100:.2f}'\n",
    "    #\n",
    "    #     results.append(string)\n",
    "    #\n",
    "    # df.loc[model] = results\n",
    "\n",
    "print(df)"
   ]
  },
  {
   "cell_type": "code",
   "execution_count": 11,
   "id": "1fe45657",
   "metadata": {},
   "outputs": [
    {
     "data": {
      "text/plain": "    model         dataset sparsification removed percent  \\\n0     GCN  amazon-ratings           None            None   \n1     GCN  amazon-ratings           None            None   \n2     GCN  amazon-ratings           None            None   \n3     GCN  amazon-ratings           None            None   \n4     GCN  amazon-ratings           None            None   \n..    ...             ...            ...             ...   \n274  SAGE        tolokers           None            None   \n275  SAGE        tolokers           None            None   \n276  SAGE        tolokers           None            None   \n277  SAGE        tolokers           None            None   \n278  SAGE        tolokers           None            None   \n\n     accuracy / ROC AUC mean  accuracy / ROC AUC std  \n0                      45.69                    0.89  \n1                      49.21                    0.60  \n2                      48.87                    0.84  \n3                      48.60                    0.88  \n4                      48.34                    0.60  \n..                       ...                     ...  \n274                    79.41                    0.66  \n275                    82.34                    0.72  \n276                    82.24                    0.65  \n277                    82.21                    0.75  \n278                    82.36                    0.74  \n\n[279 rows x 6 columns]",
      "text/html": "<div>\n<style scoped>\n    .dataframe tbody tr th:only-of-type {\n        vertical-align: middle;\n    }\n\n    .dataframe tbody tr th {\n        vertical-align: top;\n    }\n\n    .dataframe thead th {\n        text-align: right;\n    }\n</style>\n<table border=\"1\" class=\"dataframe\">\n  <thead>\n    <tr style=\"text-align: right;\">\n      <th></th>\n      <th>model</th>\n      <th>dataset</th>\n      <th>sparsification</th>\n      <th>removed percent</th>\n      <th>accuracy / ROC AUC mean</th>\n      <th>accuracy / ROC AUC std</th>\n    </tr>\n  </thead>\n  <tbody>\n    <tr>\n      <th>0</th>\n      <td>GCN</td>\n      <td>amazon-ratings</td>\n      <td>None</td>\n      <td>None</td>\n      <td>45.69</td>\n      <td>0.89</td>\n    </tr>\n    <tr>\n      <th>1</th>\n      <td>GCN</td>\n      <td>amazon-ratings</td>\n      <td>None</td>\n      <td>None</td>\n      <td>49.21</td>\n      <td>0.60</td>\n    </tr>\n    <tr>\n      <th>2</th>\n      <td>GCN</td>\n      <td>amazon-ratings</td>\n      <td>None</td>\n      <td>None</td>\n      <td>48.87</td>\n      <td>0.84</td>\n    </tr>\n    <tr>\n      <th>3</th>\n      <td>GCN</td>\n      <td>amazon-ratings</td>\n      <td>None</td>\n      <td>None</td>\n      <td>48.60</td>\n      <td>0.88</td>\n    </tr>\n    <tr>\n      <th>4</th>\n      <td>GCN</td>\n      <td>amazon-ratings</td>\n      <td>None</td>\n      <td>None</td>\n      <td>48.34</td>\n      <td>0.60</td>\n    </tr>\n    <tr>\n      <th>...</th>\n      <td>...</td>\n      <td>...</td>\n      <td>...</td>\n      <td>...</td>\n      <td>...</td>\n      <td>...</td>\n    </tr>\n    <tr>\n      <th>274</th>\n      <td>SAGE</td>\n      <td>tolokers</td>\n      <td>None</td>\n      <td>None</td>\n      <td>79.41</td>\n      <td>0.66</td>\n    </tr>\n    <tr>\n      <th>275</th>\n      <td>SAGE</td>\n      <td>tolokers</td>\n      <td>None</td>\n      <td>None</td>\n      <td>82.34</td>\n      <td>0.72</td>\n    </tr>\n    <tr>\n      <th>276</th>\n      <td>SAGE</td>\n      <td>tolokers</td>\n      <td>None</td>\n      <td>None</td>\n      <td>82.24</td>\n      <td>0.65</td>\n    </tr>\n    <tr>\n      <th>277</th>\n      <td>SAGE</td>\n      <td>tolokers</td>\n      <td>None</td>\n      <td>None</td>\n      <td>82.21</td>\n      <td>0.75</td>\n    </tr>\n    <tr>\n      <th>278</th>\n      <td>SAGE</td>\n      <td>tolokers</td>\n      <td>None</td>\n      <td>None</td>\n      <td>82.36</td>\n      <td>0.74</td>\n    </tr>\n  </tbody>\n</table>\n<p>279 rows × 6 columns</p>\n</div>"
     },
     "execution_count": 11,
     "metadata": {},
     "output_type": "execute_result"
    }
   ],
   "source": [
    "df"
   ]
  },
  {
   "cell_type": "code",
   "execution_count": 12,
   "id": "835f9a5b",
   "metadata": {},
   "outputs": [],
   "source": [
    "df.to_csv('results.csv')"
   ]
  },
  {
   "cell_type": "code",
   "execution_count": null,
   "outputs": [],
   "source": [],
   "metadata": {
    "collapsed": false
   }
  }
 ],
 "metadata": {
  "kernelspec": {
   "display_name": "Python 3 (ipykernel)",
   "language": "python",
   "name": "python3"
  },
  "language_info": {
   "codemirror_mode": {
    "name": "ipython",
    "version": 3
   },
   "file_extension": ".py",
   "mimetype": "text/x-python",
   "name": "python",
   "nbconvert_exporter": "python",
   "pygments_lexer": "ipython3",
   "version": "3.10.8"
  }
 },
 "nbformat": 4,
 "nbformat_minor": 5
}
